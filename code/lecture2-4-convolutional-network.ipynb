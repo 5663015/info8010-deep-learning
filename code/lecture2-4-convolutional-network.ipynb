{
 "cells": [
  {
   "cell_type": "markdown",
   "metadata": {},
   "source": [
    "# Convolutional network"
   ]
  },
  {
   "cell_type": "markdown",
   "metadata": {},
   "source": [
    "Adapted from [Pytorch tutorial for Deep Learning researchers](https://github.com/yunjey/pytorch-tutorial) (Yunvey Choi, 2018).\n",
    "\n",
    "Used as part of Deep Learning, Gilles Louppe, 2018."
   ]
  },
  {
   "cell_type": "code",
   "execution_count": 1,
   "metadata": {},
   "outputs": [],
   "source": [
    "# Imports\n",
    "import numpy as np\n",
    "import matplotlib.pyplot as plt\n",
    "%matplotlib inline\n",
    "\n",
    "import torch \n",
    "import torch.nn as nn\n",
    "import torchvision.transforms as transforms\n",
    "import torchvision.datasets as dsets\n",
    "from torch.autograd import Variable"
   ]
  },
  {
   "cell_type": "markdown",
   "metadata": {},
   "source": [
    "# Hyper-parameters"
   ]
  },
  {
   "cell_type": "code",
   "execution_count": 2,
   "metadata": {},
   "outputs": [],
   "source": [
    "num_classes = 10\n",
    "num_epochs = 5\n",
    "batch_size = 100\n",
    "learning_rate = 0.001"
   ]
  },
  {
   "cell_type": "markdown",
   "metadata": {},
   "source": [
    "# Data"
   ]
  },
  {
   "cell_type": "code",
   "execution_count": 3,
   "metadata": {},
   "outputs": [],
   "source": [
    "# MNIST Dataset (Images and Labels)\n",
    "train_dataset = dsets.MNIST(root='./data', \n",
    "                            train=True, \n",
    "                            transform=transforms.ToTensor(),\n",
    "                            download=True)\n",
    "\n",
    "test_dataset = dsets.MNIST(root='./data', \n",
    "                           train=False, \n",
    "                           transform=transforms.ToTensor())\n",
    "\n",
    "# Dataset Loader (Input Pipline)\n",
    "train_loader = torch.utils.data.DataLoader(dataset=train_dataset, \n",
    "                                           batch_size=batch_size, \n",
    "                                           shuffle=True)\n",
    "\n",
    "test_loader = torch.utils.data.DataLoader(dataset=test_dataset, \n",
    "                                          batch_size=batch_size, \n",
    "                                          shuffle=False)"
   ]
  },
  {
   "cell_type": "markdown",
   "metadata": {},
   "source": [
    "# Model"
   ]
  },
  {
   "cell_type": "code",
   "execution_count": 4,
   "metadata": {},
   "outputs": [],
   "source": [
    "# Model\n",
    "class CNN(nn.Module):\n",
    "    def __init__(self):\n",
    "        super(CNN, self).__init__()\n",
    "        self.layer1 = nn.Sequential(\n",
    "            nn.Conv2d(1, 16, kernel_size=5, padding=2),\n",
    "            nn.BatchNorm2d(16),\n",
    "            nn.ReLU(),\n",
    "            nn.MaxPool2d(2))\n",
    "        self.layer2 = nn.Sequential(\n",
    "            nn.Conv2d(16, 32, kernel_size=5, padding=2),\n",
    "            nn.BatchNorm2d(32),\n",
    "            nn.ReLU(),\n",
    "            nn.MaxPool2d(2))\n",
    "        self.fc = nn.Linear(7*7*32, num_classes)\n",
    "        \n",
    "    def forward(self, x):\n",
    "        out = self.layer1(x)\n",
    "        out = self.layer2(out)\n",
    "        out = out.view(out.size(0), -1)\n",
    "        out = self.fc(out)\n",
    "        return out\n",
    "\n",
    "model = CNN()"
   ]
  },
  {
   "cell_type": "markdown",
   "metadata": {},
   "source": [
    "# Loss and optimizer"
   ]
  },
  {
   "cell_type": "code",
   "execution_count": 5,
   "metadata": {},
   "outputs": [
    {
     "name": "stdout",
     "output_type": "stream",
     "text": [
      "Epoch: [1/5], Step: [100/600], Loss: 1.9691\n",
      "Epoch: [1/5], Step: [200/600], Loss: 1.5113\n",
      "Epoch: [1/5], Step: [300/600], Loss: 1.2245\n",
      "Epoch: [1/5], Step: [400/600], Loss: 0.9624\n",
      "Epoch: [1/5], Step: [500/600], Loss: 0.8503\n",
      "Epoch: [1/5], Step: [600/600], Loss: 0.6662\n",
      "Epoch: [2/5], Step: [100/600], Loss: 0.5966\n",
      "Epoch: [2/5], Step: [200/600], Loss: 0.4791\n",
      "Epoch: [2/5], Step: [300/600], Loss: 0.4781\n",
      "Epoch: [2/5], Step: [400/600], Loss: 0.4480\n",
      "Epoch: [2/5], Step: [500/600], Loss: 0.4640\n",
      "Epoch: [2/5], Step: [600/600], Loss: 0.4122\n",
      "Epoch: [3/5], Step: [100/600], Loss: 0.4079\n",
      "Epoch: [3/5], Step: [200/600], Loss: 0.2862\n",
      "Epoch: [3/5], Step: [300/600], Loss: 0.3484\n",
      "Epoch: [3/5], Step: [400/600], Loss: 0.3652\n",
      "Epoch: [3/5], Step: [500/600], Loss: 0.2772\n",
      "Epoch: [3/5], Step: [600/600], Loss: 0.2656\n",
      "Epoch: [4/5], Step: [100/600], Loss: 0.3021\n",
      "Epoch: [4/5], Step: [200/600], Loss: 0.2957\n",
      "Epoch: [4/5], Step: [300/600], Loss: 0.2438\n",
      "Epoch: [4/5], Step: [400/600], Loss: 0.2115\n",
      "Epoch: [4/5], Step: [500/600], Loss: 0.2457\n",
      "Epoch: [4/5], Step: [600/600], Loss: 0.2238\n",
      "Epoch: [5/5], Step: [100/600], Loss: 0.1792\n",
      "Epoch: [5/5], Step: [200/600], Loss: 0.2454\n",
      "Epoch: [5/5], Step: [300/600], Loss: 0.1990\n",
      "Epoch: [5/5], Step: [400/600], Loss: 0.2150\n",
      "Epoch: [5/5], Step: [500/600], Loss: 0.1838\n",
      "Epoch: [5/5], Step: [600/600], Loss: 0.1809\n"
     ]
    }
   ],
   "source": [
    "# Loss and Optimizer\n",
    "# Softmax is internally computed.\n",
    "# Set parameters to be updated.\n",
    "criterion = nn.CrossEntropyLoss()  \n",
    "optimizer = torch.optim.SGD(model.parameters(), lr=learning_rate)  \n",
    "\n",
    "# Training the Model\n",
    "for epoch in range(num_epochs):\n",
    "    for i, (images, labels) in enumerate(train_loader):        \n",
    "        # Forward + Backward + Optimize\n",
    "        optimizer.zero_grad()\n",
    "        outputs = model(images)\n",
    "        loss = criterion(outputs, labels)\n",
    "        loss.backward()\n",
    "        optimizer.step()\n",
    "        \n",
    "        if (i+1) % 100 == 0:\n",
    "            print('Epoch: [%d/%d], Step: [%d/%d], Loss: %.4f' \n",
    "                  % (epoch+1, num_epochs, i+1, len(train_dataset)//batch_size, loss))"
   ]
  },
  {
   "cell_type": "markdown",
   "metadata": {},
   "source": [
    "# Test the model"
   ]
  },
  {
   "cell_type": "code",
   "execution_count": 6,
   "metadata": {},
   "outputs": [
    {
     "name": "stdout",
     "output_type": "stream",
     "text": [
      "Accuracy of the model on the 10000 test images: 95 %\n"
     ]
    }
   ],
   "source": [
    "# Test the Model\n",
    "model.eval()  # Change model to 'eval' mode (BN uses moving mean/var).\n",
    "correct = 0\n",
    "total = 0\n",
    "\n",
    "for images, labels in test_loader:\n",
    "    outputs = model(images)\n",
    "    _, predicted = torch.max(outputs.data, 1)\n",
    "    total += labels.size(0)\n",
    "    correct += (predicted == labels).sum()\n",
    "    \n",
    "print('Accuracy of the model on the 10000 test images: %d %%' % (100 * correct / total))"
   ]
  },
  {
   "cell_type": "markdown",
   "metadata": {},
   "source": [
    "<div class=\"alert alert-success\">\n",
    "<b>EXERCISE</b>:\n",
    "\n",
    "Write two convolutional networks, designed as:\n",
    "<ul>\n",
    "    <li>INPUT→[CONV→RELU→POOL]*2→FC→RELU→FC</li>\n",
    "    <li>INPUT→[[CONV→RELU]*2→POOL]*3→[FC→RELU]*2→FC</li>\n",
    "</ul>\n",
    "\n",
    "</div>"
   ]
  },
  {
   "cell_type": "code",
   "execution_count": null,
   "metadata": {},
   "outputs": [],
   "source": []
  },
  {
   "cell_type": "markdown",
   "metadata": {},
   "source": [
    "<div class=\"alert alert-success\">\n",
    "<b>EXERCISE</b>:\n",
    "\n",
    "Count the number of parameters of these networks\n",
    "\n",
    "</div>"
   ]
  },
  {
   "cell_type": "code",
   "execution_count": null,
   "metadata": {},
   "outputs": [],
   "source": []
  },
  {
   "cell_type": "markdown",
   "metadata": {},
   "source": [
    "<div class=\"alert alert-success\">\n",
    "<b>EXERCISE</b>:\n",
    "\n",
    "Which one work best on MNIST?\n",
    "\n",
    "</div>"
   ]
  },
  {
   "cell_type": "code",
   "execution_count": null,
   "metadata": {},
   "outputs": [],
   "source": []
  },
  {
   "cell_type": "markdown",
   "metadata": {},
   "source": [
    "<div class=\"alert alert-success\">\n",
    "<b>EXERCISE</b>:\n",
    "\n",
    "Evaluate the effect of the number of convolutional kernels on the final model performance.\n",
    "\n",
    "</div>"
   ]
  },
  {
   "cell_type": "code",
   "execution_count": null,
   "metadata": {},
   "outputs": [],
   "source": []
  },
  {
   "cell_type": "markdown",
   "metadata": {},
   "source": [
    "<div class=\"alert alert-success\">\n",
    "<b>EXERCISE</b>:\n",
    "\n",
    "Train a convolutional neural network on <code>dsets.CIFAR10</code>.\n",
    "\n",
    "</div>"
   ]
  },
  {
   "cell_type": "markdown",
   "metadata": {},
   "source": [
    "# Using a pretrained model"
   ]
  },
  {
   "cell_type": "code",
   "execution_count": 7,
   "metadata": {},
   "outputs": [],
   "source": [
    "# Download and load pretrained resnet.\n",
    "import torchvision"
   ]
  },
  {
   "cell_type": "code",
   "execution_count": null,
   "metadata": {},
   "outputs": [],
   "source": []
  },
  {
   "cell_type": "code",
   "execution_count": 8,
   "metadata": {},
   "outputs": [],
   "source": [
    "resnet = torchvision.models.resnet18(pretrained=True)"
   ]
  },
  {
   "cell_type": "code",
   "execution_count": 11,
   "metadata": {},
   "outputs": [],
   "source": [
    "# If you want to finetune only top layer of the model.\n",
    "for param in resnet.parameters():\n",
    "    param.requires_grad = True\n",
    "    \n",
    "# Replace top layer for finetuning.\n",
    "resnet.fc = nn.Linear(resnet.fc.in_features, 10)  "
   ]
  },
  {
   "cell_type": "code",
   "execution_count": 12,
   "metadata": {},
   "outputs": [
    {
     "name": "stdout",
     "output_type": "stream",
     "text": [
      "11181642\n"
     ]
    }
   ],
   "source": [
    "def count_parameters(model):\n",
    "    return sum(p.numel() for p in model.parameters() if p.requires_grad)\n",
    "\n",
    "print(count_parameters(resnet))"
   ]
  },
  {
   "cell_type": "code",
   "execution_count": 13,
   "metadata": {},
   "outputs": [
    {
     "name": "stdout",
     "output_type": "stream",
     "text": [
      "tensor([[-0.4083, -0.0396, -0.4183, -0.7887,  0.2547, -0.0193, -0.9379,  0.4512,\n",
      "         -0.7356, -1.3701],\n",
      "        [-0.4878, -0.2544, -1.0924, -1.0049,  0.2767, -0.4340, -0.0540, -0.3392,\n",
      "         -0.6985, -1.5758],\n",
      "        [-0.6354,  0.3880,  0.0790, -1.5181,  0.3314,  0.1020, -0.6083,  0.0356,\n",
      "          0.0519, -1.0433],\n",
      "        [-0.7799, -0.8931, -0.1844, -0.3242,  0.6701,  0.6911, -0.3257,  0.5089,\n",
      "         -1.4004, -1.3998],\n",
      "        [-0.2649, -0.3818, -0.3260, -0.7072, -0.0095,  0.1530, -0.0402,  0.2732,\n",
      "         -0.3428, -0.8333],\n",
      "        [-0.6247, -0.4311, -0.7299, -1.0482, -0.2558, -0.7946,  0.3372,  0.4470,\n",
      "         -0.1404, -1.7728],\n",
      "        [-0.5415, -0.2916, -0.1690, -0.8819,  0.4859, -0.6334, -0.1586,  0.3190,\n",
      "         -0.3892, -0.8728],\n",
      "        [-0.3192, -0.4002, -0.2290, -0.7917, -0.3734,  0.2274,  0.0495,  0.8865,\n",
      "         -1.1970, -0.7701],\n",
      "        [-0.6334, -0.8738, -0.2606, -1.1241, -0.0150, -0.1902,  0.3649, -0.2246,\n",
      "         -0.9731, -0.7445],\n",
      "        [-0.2142, -0.2728, -0.2932, -1.3906, -0.0906, -0.3755,  0.2477,  0.4005,\n",
      "         -0.0274, -0.9781]], grad_fn=<AddmmBackward>)\n"
     ]
    }
   ],
   "source": [
    "# For test.\n",
    "images = torch.randn(10, 3, 224, 224)\n",
    "outputs = resnet(images)\n",
    "print(outputs)  "
   ]
  }
 ],
 "metadata": {
  "kernelspec": {
   "display_name": "Python 3",
   "language": "python",
   "name": "python3"
  },
  "language_info": {
   "codemirror_mode": {
    "name": "ipython",
    "version": 3
   },
   "file_extension": ".py",
   "mimetype": "text/x-python",
   "name": "python",
   "nbconvert_exporter": "python",
   "pygments_lexer": "ipython3",
   "version": "3.6.8"
  }
 },
 "nbformat": 4,
 "nbformat_minor": 2
}
